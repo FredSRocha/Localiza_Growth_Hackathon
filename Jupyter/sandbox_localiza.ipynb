{
 "cells": [
  {
   "cell_type": "markdown",
   "metadata": {},
   "source": [
    "# Sandbox - Hackathon Localiza\n",
    "\n",
    "Este é um arquivo de sandbox para explorar os dados apresentados pela organização do evento"
   ]
  },
  {
   "cell_type": "code",
   "execution_count": 101,
   "metadata": {},
   "outputs": [],
   "source": [
    "import pandas as pd\n",
    "import numpy as np\n",
    "\n",
    "from IPython.display import display, HTML"
   ]
  },
  {
   "cell_type": "code",
   "execution_count": 30,
   "metadata": {},
   "outputs": [],
   "source": [
    "# Import CSV\n",
    "data = pd.read_csv(\"original.csv\", sep=';', encoding = \"ISO-8859-1\", error_bad_lines=False)"
   ]
  },
  {
   "cell_type": "markdown",
   "metadata": {},
   "source": [
    "## Fazer comparação dos indicadores por sexo"
   ]
  },
  {
   "cell_type": "code",
   "execution_count": 131,
   "metadata": {},
   "outputs": [],
   "source": [
    "# Filtrar sexo\n",
    "\n",
    "is_homem = (data[\"Sexo\"] == \"M\") & (data[\"Cidade_Residencia\"] == \"SAO PAULO\")\n",
    "is_mulher = (data[\"Sexo\"] == \"F\") & (data[\"Cidade_Residencia\"] == \"SAO PAULO\")\n",
    "\n",
    "homem = data[is_homem]\n",
    "mulher = data[is_mulher]\n",
    "\n",
    "total_homens = len(homem.index)\n",
    "total_mulheres = len(mulher.index)"
   ]
  },
  {
   "cell_type": "code",
   "execution_count": 132,
   "metadata": {},
   "outputs": [
    {
     "name": "stdout",
     "output_type": "stream",
     "text": [
      "162132\n",
      "38478\n"
     ]
    }
   ],
   "source": [
    "# Print informacoes\n",
    "print(total_homens)\n",
    "print(total_mulheres)"
   ]
  },
  {
   "cell_type": "markdown",
   "metadata": {},
   "source": [
    "### Features dos Homens"
   ]
  },
  {
   "cell_type": "code",
   "execution_count": 133,
   "metadata": {},
   "outputs": [
    {
     "name": "stdout",
     "output_type": "stream",
     "text": [
      "\n",
      "== Valores Totais ==\n"
     ]
    },
    {
     "data": {
      "text/html": [
       "<div>\n",
       "<style scoped>\n",
       "    .dataframe tbody tr th:only-of-type {\n",
       "        vertical-align: middle;\n",
       "    }\n",
       "\n",
       "    .dataframe tbody tr th {\n",
       "        vertical-align: top;\n",
       "    }\n",
       "\n",
       "    .dataframe thead th {\n",
       "        text-align: right;\n",
       "    }\n",
       "</style>\n",
       "<table border=\"1\" class=\"dataframe\">\n",
       "  <thead>\n",
       "    <tr style=\"text-align: right;\">\n",
       "      <th></th>\n",
       "      <th>Seguro_Terceiros</th>\n",
       "      <th>Assentos_Conforto</th>\n",
       "      <th>Hora_Extra</th>\n",
       "      <th>Kit_Conveniencia</th>\n",
       "      <th>Lavagem</th>\n",
       "      <th>Localiza_Way</th>\n",
       "      <th>Motorista</th>\n",
       "      <th>Km_Extra</th>\n",
       "      <th>GPS</th>\n",
       "    </tr>\n",
       "  </thead>\n",
       "  <tbody>\n",
       "    <tr>\n",
       "      <th>0</th>\n",
       "      <td>137613</td>\n",
       "      <td>3115</td>\n",
       "      <td>12627</td>\n",
       "      <td>0</td>\n",
       "      <td>15300</td>\n",
       "      <td>15300</td>\n",
       "      <td>52</td>\n",
       "      <td>48</td>\n",
       "      <td>1</td>\n",
       "    </tr>\n",
       "  </tbody>\n",
       "</table>\n",
       "</div>"
      ],
      "text/plain": [
       "   Seguro_Terceiros  Assentos_Conforto  Hora_Extra  Kit_Conveniencia  Lavagem  \\\n",
       "0            137613               3115       12627                 0    15300   \n",
       "\n",
       "   Localiza_Way  Motorista  Km_Extra  GPS  \n",
       "0         15300         52        48    1  "
      ]
     },
     "metadata": {},
     "output_type": "display_data"
    },
    {
     "name": "stdout",
     "output_type": "stream",
     "text": [
      "\n",
      "\n",
      "\n",
      "== Valores Percentuais ==\n"
     ]
    },
    {
     "data": {
      "text/html": [
       "<div>\n",
       "<style scoped>\n",
       "    .dataframe tbody tr th:only-of-type {\n",
       "        vertical-align: middle;\n",
       "    }\n",
       "\n",
       "    .dataframe tbody tr th {\n",
       "        vertical-align: top;\n",
       "    }\n",
       "\n",
       "    .dataframe thead th {\n",
       "        text-align: right;\n",
       "    }\n",
       "</style>\n",
       "<table border=\"1\" class=\"dataframe\">\n",
       "  <thead>\n",
       "    <tr style=\"text-align: right;\">\n",
       "      <th></th>\n",
       "      <th>Seguro_Terceiros</th>\n",
       "      <th>Assentos_Conforto</th>\n",
       "      <th>Hora_Extra</th>\n",
       "      <th>Kit_Conveniencia</th>\n",
       "      <th>Lavagem</th>\n",
       "      <th>Localiza_Way</th>\n",
       "      <th>Motorista</th>\n",
       "      <th>Km_Extra</th>\n",
       "      <th>GPS</th>\n",
       "    </tr>\n",
       "  </thead>\n",
       "  <tbody>\n",
       "    <tr>\n",
       "      <th>0</th>\n",
       "      <td>0.848771</td>\n",
       "      <td>0.019213</td>\n",
       "      <td>0.077881</td>\n",
       "      <td>0.0</td>\n",
       "      <td>0.094368</td>\n",
       "      <td>0.094368</td>\n",
       "      <td>0.000321</td>\n",
       "      <td>0.000296</td>\n",
       "      <td>0.000006</td>\n",
       "    </tr>\n",
       "  </tbody>\n",
       "</table>\n",
       "</div>"
      ],
      "text/plain": [
       "   Seguro_Terceiros  Assentos_Conforto  Hora_Extra  Kit_Conveniencia  \\\n",
       "0          0.848771           0.019213    0.077881               0.0   \n",
       "\n",
       "    Lavagem  Localiza_Way  Motorista  Km_Extra       GPS  \n",
       "0  0.094368      0.094368   0.000321  0.000296  0.000006  "
      ]
     },
     "metadata": {},
     "output_type": "display_data"
    }
   ],
   "source": [
    "# homem_features = attrdict()\n",
    "homem_value = pd.DataFrame()\n",
    "homem_percent = pd.DataFrame()\n",
    "# homem_features.percent = attrdict()\n",
    "\n",
    "# homem_features.value.Valor_Diarias\n",
    "# homem_features.value.Diarias_Utilizadas\n",
    "homem_value['Seguro_Terceiros'] = [len(homem[homem[\"Seguro_Terceiros\"] == \"Sim\"])]\n",
    "homem_value['Assentos_Conforto'] = [len(homem[homem[\"Assentos_Conforto\"] == \"Sim\"])]\n",
    "homem_value['Hora_Extra'] = [len(homem[homem[\"Hora_Extra\"] == \"Sim\"])]\n",
    "homem_value['Kit_Conveniencia'] = [len(homem[homem[\"Kit_Conveniencia\"] == \"Sim\"])]\n",
    "homem_value['Lavagem'] = [len(homem[homem[\"Lavagem\"] == \"Sim\"])]\n",
    "homem_value['Localiza_Way'] = [len(homem[homem[\"Lavagem\"] == \"Sim\"])]\n",
    "homem_value['Motorista'] = [len(homem[homem[\"Motorista\"] == \"Sim\"])]\n",
    "homem_value['Km_Extra'] = [len(homem[homem[\"Km_Extra\"] == \"Sim\"])]\n",
    "homem_value['GPS'] = [len(homem[homem[\"GPS\"] == \"Sim\"])]\n",
    "# homem_value['Total_Contrato']\n",
    "\n",
    "for item in homem_value:\n",
    "  homem_percent[item] = [homem_value[item][0]/total_homens]\n",
    "#   homem_percent[item].options.display.float_format = '{:.2f}%'.format\n",
    "#   print(item)\n",
    "    \n",
    "\n",
    "print('\\n== Valores Totais ==')\n",
    "display(homem_value)\n",
    "print('\\n\\n\\n== Valores Percentuais ==')\n",
    "display(homem_percent)"
   ]
  },
  {
   "cell_type": "markdown",
   "metadata": {},
   "source": [
    "### Features das Mulheres"
   ]
  },
  {
   "cell_type": "code",
   "execution_count": 134,
   "metadata": {},
   "outputs": [
    {
     "name": "stdout",
     "output_type": "stream",
     "text": [
      "\n",
      "===== MULHER ====\n",
      "\n",
      "\n",
      "\n",
      "== Valores Totais ==\n"
     ]
    },
    {
     "data": {
      "text/html": [
       "<div>\n",
       "<style scoped>\n",
       "    .dataframe tbody tr th:only-of-type {\n",
       "        vertical-align: middle;\n",
       "    }\n",
       "\n",
       "    .dataframe tbody tr th {\n",
       "        vertical-align: top;\n",
       "    }\n",
       "\n",
       "    .dataframe thead th {\n",
       "        text-align: right;\n",
       "    }\n",
       "</style>\n",
       "<table border=\"1\" class=\"dataframe\">\n",
       "  <thead>\n",
       "    <tr style=\"text-align: right;\">\n",
       "      <th></th>\n",
       "      <th>Seguro_Terceiros</th>\n",
       "      <th>Assentos_Conforto</th>\n",
       "      <th>Hora_Extra</th>\n",
       "      <th>Kit_Conveniencia</th>\n",
       "      <th>Lavagem</th>\n",
       "      <th>Localiza_Way</th>\n",
       "      <th>Motorista</th>\n",
       "      <th>Km_Extra</th>\n",
       "      <th>GPS</th>\n",
       "    </tr>\n",
       "  </thead>\n",
       "  <tbody>\n",
       "    <tr>\n",
       "      <th>0</th>\n",
       "      <td>33476</td>\n",
       "      <td>823</td>\n",
       "      <td>3128</td>\n",
       "      <td>0</td>\n",
       "      <td>4052</td>\n",
       "      <td>4052</td>\n",
       "      <td>35</td>\n",
       "      <td>11</td>\n",
       "      <td>1</td>\n",
       "    </tr>\n",
       "  </tbody>\n",
       "</table>\n",
       "</div>"
      ],
      "text/plain": [
       "   Seguro_Terceiros  Assentos_Conforto  Hora_Extra  Kit_Conveniencia  Lavagem  \\\n",
       "0             33476                823        3128                 0     4052   \n",
       "\n",
       "   Localiza_Way  Motorista  Km_Extra  GPS  \n",
       "0          4052         35        11    1  "
      ]
     },
     "metadata": {},
     "output_type": "display_data"
    },
    {
     "name": "stdout",
     "output_type": "stream",
     "text": [
      "\n",
      "\n",
      "\n",
      "== Valores Percentuais ==\n"
     ]
    },
    {
     "data": {
      "text/html": [
       "<div>\n",
       "<style scoped>\n",
       "    .dataframe tbody tr th:only-of-type {\n",
       "        vertical-align: middle;\n",
       "    }\n",
       "\n",
       "    .dataframe tbody tr th {\n",
       "        vertical-align: top;\n",
       "    }\n",
       "\n",
       "    .dataframe thead th {\n",
       "        text-align: right;\n",
       "    }\n",
       "</style>\n",
       "<table border=\"1\" class=\"dataframe\">\n",
       "  <thead>\n",
       "    <tr style=\"text-align: right;\">\n",
       "      <th></th>\n",
       "      <th>Seguro_Terceiros</th>\n",
       "      <th>Assentos_Conforto</th>\n",
       "      <th>Hora_Extra</th>\n",
       "      <th>Kit_Conveniencia</th>\n",
       "      <th>Lavagem</th>\n",
       "      <th>Localiza_Way</th>\n",
       "      <th>Motorista</th>\n",
       "      <th>Km_Extra</th>\n",
       "      <th>GPS</th>\n",
       "    </tr>\n",
       "  </thead>\n",
       "  <tbody>\n",
       "    <tr>\n",
       "      <th>0</th>\n",
       "      <td>0.870004</td>\n",
       "      <td>0.021389</td>\n",
       "      <td>0.081293</td>\n",
       "      <td>0.0</td>\n",
       "      <td>0.105307</td>\n",
       "      <td>0.105307</td>\n",
       "      <td>0.00091</td>\n",
       "      <td>0.000286</td>\n",
       "      <td>0.000026</td>\n",
       "    </tr>\n",
       "  </tbody>\n",
       "</table>\n",
       "</div>"
      ],
      "text/plain": [
       "   Seguro_Terceiros  Assentos_Conforto  Hora_Extra  Kit_Conveniencia  \\\n",
       "0          0.870004           0.021389    0.081293               0.0   \n",
       "\n",
       "    Lavagem  Localiza_Way  Motorista  Km_Extra       GPS  \n",
       "0  0.105307      0.105307    0.00091  0.000286  0.000026  "
      ]
     },
     "metadata": {},
     "output_type": "display_data"
    }
   ],
   "source": [
    "mulher_value = pd.DataFrame()\n",
    "mulher_percent = pd.DataFrame()\n",
    "\n",
    "# mulher_features.value.Valor_Diarias\n",
    "# mulher_features.value.Diarias_Utilizadas\n",
    "mulher_value['Seguro_Terceiros'] = [len(mulher[mulher[\"Seguro_Terceiros\"] == \"Sim\"])]\n",
    "mulher_value['Assentos_Conforto'] = [len(mulher[mulher[\"Assentos_Conforto\"] == \"Sim\"])]\n",
    "mulher_value['Hora_Extra'] = [len(mulher[mulher[\"Hora_Extra\"] == \"Sim\"])]\n",
    "mulher_value['Kit_Conveniencia'] = [len(mulher[mulher[\"Kit_Conveniencia\"] == \"Sim\"])]\n",
    "mulher_value['Lavagem'] = [len(mulher[mulher[\"Lavagem\"] == \"Sim\"])]\n",
    "mulher_value['Localiza_Way'] = [len(mulher[mulher[\"Lavagem\"] == \"Sim\"])]\n",
    "mulher_value['Motorista'] = [len(mulher[mulher[\"Motorista\"] == \"Sim\"])]\n",
    "mulher_value['Km_Extra'] = [len(mulher[mulher[\"Km_Extra\"] == \"Sim\"])]\n",
    "mulher_value['GPS'] = [len(mulher[mulher[\"GPS\"] == \"Sim\"])]\n",
    "# mulher_value['Total_Contrato']\n",
    "\n",
    "for item in mulher_value:\n",
    "  mulher_percent[item] = [mulher_value[item][0]/total_mulheres]\n",
    "    \n",
    "\n",
    "print('\\n===== MULHER ====\\n\\n')\n",
    "print('\\n== Valores Totais ==')\n",
    "display(mulher_value)\n",
    "print('\\n\\n\\n== Valores Percentuais ==')\n",
    "display(mulher_percent)"
   ]
  },
  {
   "cell_type": "markdown",
   "metadata": {},
   "source": [
    "### Comparativo percentual entre sexos"
   ]
  },
  {
   "cell_type": "code",
   "execution_count": 135,
   "metadata": {},
   "outputs": [
    {
     "name": "stdout",
     "output_type": "stream",
     "text": [
      "\n",
      "\n",
      "\n",
      "== HOMEM ==\n"
     ]
    },
    {
     "data": {
      "text/html": [
       "<div>\n",
       "<style scoped>\n",
       "    .dataframe tbody tr th:only-of-type {\n",
       "        vertical-align: middle;\n",
       "    }\n",
       "\n",
       "    .dataframe tbody tr th {\n",
       "        vertical-align: top;\n",
       "    }\n",
       "\n",
       "    .dataframe thead th {\n",
       "        text-align: right;\n",
       "    }\n",
       "</style>\n",
       "<table border=\"1\" class=\"dataframe\">\n",
       "  <thead>\n",
       "    <tr style=\"text-align: right;\">\n",
       "      <th></th>\n",
       "      <th>Seguro_Terceiros</th>\n",
       "      <th>Assentos_Conforto</th>\n",
       "      <th>Hora_Extra</th>\n",
       "      <th>Kit_Conveniencia</th>\n",
       "      <th>Lavagem</th>\n",
       "      <th>Localiza_Way</th>\n",
       "      <th>Motorista</th>\n",
       "      <th>Km_Extra</th>\n",
       "      <th>GPS</th>\n",
       "    </tr>\n",
       "  </thead>\n",
       "  <tbody>\n",
       "    <tr>\n",
       "      <th>0</th>\n",
       "      <td>0.848771</td>\n",
       "      <td>0.019213</td>\n",
       "      <td>0.077881</td>\n",
       "      <td>0.0</td>\n",
       "      <td>0.094368</td>\n",
       "      <td>0.094368</td>\n",
       "      <td>0.000321</td>\n",
       "      <td>0.000296</td>\n",
       "      <td>0.000006</td>\n",
       "    </tr>\n",
       "  </tbody>\n",
       "</table>\n",
       "</div>"
      ],
      "text/plain": [
       "   Seguro_Terceiros  Assentos_Conforto  Hora_Extra  Kit_Conveniencia  \\\n",
       "0          0.848771           0.019213    0.077881               0.0   \n",
       "\n",
       "    Lavagem  Localiza_Way  Motorista  Km_Extra       GPS  \n",
       "0  0.094368      0.094368   0.000321  0.000296  0.000006  "
      ]
     },
     "metadata": {},
     "output_type": "display_data"
    },
    {
     "name": "stdout",
     "output_type": "stream",
     "text": [
      "\n",
      "\n",
      "\n",
      "== MULHER ==\n"
     ]
    },
    {
     "data": {
      "text/html": [
       "<div>\n",
       "<style scoped>\n",
       "    .dataframe tbody tr th:only-of-type {\n",
       "        vertical-align: middle;\n",
       "    }\n",
       "\n",
       "    .dataframe tbody tr th {\n",
       "        vertical-align: top;\n",
       "    }\n",
       "\n",
       "    .dataframe thead th {\n",
       "        text-align: right;\n",
       "    }\n",
       "</style>\n",
       "<table border=\"1\" class=\"dataframe\">\n",
       "  <thead>\n",
       "    <tr style=\"text-align: right;\">\n",
       "      <th></th>\n",
       "      <th>Seguro_Terceiros</th>\n",
       "      <th>Assentos_Conforto</th>\n",
       "      <th>Hora_Extra</th>\n",
       "      <th>Kit_Conveniencia</th>\n",
       "      <th>Lavagem</th>\n",
       "      <th>Localiza_Way</th>\n",
       "      <th>Motorista</th>\n",
       "      <th>Km_Extra</th>\n",
       "      <th>GPS</th>\n",
       "    </tr>\n",
       "  </thead>\n",
       "  <tbody>\n",
       "    <tr>\n",
       "      <th>0</th>\n",
       "      <td>0.870004</td>\n",
       "      <td>0.021389</td>\n",
       "      <td>0.081293</td>\n",
       "      <td>0.0</td>\n",
       "      <td>0.105307</td>\n",
       "      <td>0.105307</td>\n",
       "      <td>0.00091</td>\n",
       "      <td>0.000286</td>\n",
       "      <td>0.000026</td>\n",
       "    </tr>\n",
       "  </tbody>\n",
       "</table>\n",
       "</div>"
      ],
      "text/plain": [
       "   Seguro_Terceiros  Assentos_Conforto  Hora_Extra  Kit_Conveniencia  \\\n",
       "0          0.870004           0.021389    0.081293               0.0   \n",
       "\n",
       "    Lavagem  Localiza_Way  Motorista  Km_Extra       GPS  \n",
       "0  0.105307      0.105307    0.00091  0.000286  0.000026  "
      ]
     },
     "metadata": {},
     "output_type": "display_data"
    },
    {
     "name": "stdout",
     "output_type": "stream",
     "text": [
      "\n",
      "\n",
      "\n",
      "\n"
     ]
    }
   ],
   "source": [
    "print('\\n\\n\\n== HOMEM ==')\n",
    "display(homem_percent)\n",
    "print('\\n\\n\\n== MULHER ==')\n",
    "display(mulher_percent)\n",
    "\n",
    "print('\\n\\n\\n')"
   ]
  },
  {
   "cell_type": "markdown",
   "metadata": {},
   "source": [
    "### Idade por quantidade gasta"
   ]
  },
  {
   "cell_type": "code",
   "execution_count": 150,
   "metadata": {},
   "outputs": [
    {
     "name": "stderr",
     "output_type": "stream",
     "text": [
      "//anaconda3/lib/python3.7/site-packages/ipykernel_launcher.py:6: SettingWithCopyWarning: \n",
      "A value is trying to be set on a copy of a slice from a DataFrame.\n",
      "Try using .loc[row_indexer,col_indexer] = value instead\n",
      "\n",
      "See the caveats in the documentation: http://pandas.pydata.org/pandas-docs/stable/indexing.html#indexing-view-versus-copy\n",
      "  \n",
      "//anaconda3/lib/python3.7/site-packages/ipykernel_launcher.py:7: SettingWithCopyWarning: \n",
      "A value is trying to be set on a copy of a slice from a DataFrame.\n",
      "Try using .loc[row_indexer,col_indexer] = value instead\n",
      "\n",
      "See the caveats in the documentation: http://pandas.pydata.org/pandas-docs/stable/indexing.html#indexing-view-versus-copy\n",
      "  import sys\n",
      "//anaconda3/lib/python3.7/site-packages/ipykernel_launcher.py:10: SettingWithCopyWarning: \n",
      "A value is trying to be set on a copy of a slice from a DataFrame.\n",
      "Try using .loc[row_indexer,col_indexer] = value instead\n",
      "\n",
      "See the caveats in the documentation: http://pandas.pydata.org/pandas-docs/stable/indexing.html#indexing-view-versus-copy\n",
      "  # Remove the CWD from sys.path while we load stuff.\n"
     ]
    }
   ],
   "source": [
    "# Frequency of age\n",
    "\n",
    "def convert_to_age(db_age):\n",
    "    item = 'Data_Nascimento'\n",
    "    now = pd.Timestamp('now')\n",
    "    db_age[item] = pd.to_datetime(db_age[item])\n",
    "    db_age[item] = db_age[item].where(db_age[item] < now, db_age[item] -  np.timedelta64(100, 'Y'))\n",
    "    return (now - db_age[item]).astype('<m8[Y]')\n",
    "\n",
    "homem['age'] = convert_to_age(homem)"
   ]
  },
  {
   "cell_type": "markdown",
   "metadata": {},
   "source": [
    "## Drafts"
   ]
  },
  {
   "cell_type": "code",
   "execution_count": 68,
   "metadata": {},
   "outputs": [],
   "source": [
    "# Create a javascript-like object\n",
    "\n",
    "class attrdict(dict):\n",
    "    def __init__(self, *args, **kwargs):\n",
    "        dict.__init__(self, *args, **kwargs)\n",
    "        self.__dict__ = self"
   ]
  },
  {
   "cell_type": "code",
   "execution_count": 81,
   "metadata": {},
   "outputs": [
    {
     "data": {
      "text/plain": [
       "['ID_Cliente',\n",
       " 'ID_Contrato',\n",
       " 'ID_Reserva',\n",
       " 'Regiao_Abertura',\n",
       " 'Regiao_Fechamento',\n",
       " 'Data_Criacao_Reserva',\n",
       " 'Data_Prevista_Retirada_Reserva',\n",
       " 'Data_Prevista_Devolucao_Reserva',\n",
       " 'Data_Abertura_Efetiva',\n",
       " 'Data_Fechamento_Efetiva',\n",
       " 'Valor_Diarias',\n",
       " 'Diarias_Utilizadas',\n",
       " 'Seguro_Casco',\n",
       " 'Seguro_Terceiros',\n",
       " 'Assentos_Conforto',\n",
       " 'Hora_Extra',\n",
       " 'Kit_Conveniencia',\n",
       " 'Lavagem',\n",
       " 'Localiza_Way',\n",
       " 'Motorista',\n",
       " 'Km_Extra',\n",
       " 'GPS',\n",
       " 'Total_Contrato',\n",
       " 'Categoria_Reservada',\n",
       " 'Categoria_Cobrada',\n",
       " 'Categoria_Utilizada',\n",
       " 'Canal_Origem',\n",
       " 'Categoria_Cliente',\n",
       " 'Sexo',\n",
       " 'Data_Nascimento',\n",
       " 'Cliente_Desde',\n",
       " 'País_Residencia',\n",
       " 'Estado_Residencia',\n",
       " 'Cidade_Residencia',\n",
       " 'age']"
      ]
     },
     "execution_count": 81,
     "metadata": {},
     "output_type": "execute_result"
    }
   ],
   "source": [
    "# Show column names\n",
    "list(data.columns)"
   ]
  },
  {
   "cell_type": "code",
   "execution_count": 53,
   "metadata": {},
   "outputs": [
    {
     "name": "stdout",
     "output_type": "stream",
     "text": [
      "M      1028820\n",
      "F       220529\n",
      "I          681\n",
      "N/D          1\n",
      "Name: Sexo, dtype: int64\n"
     ]
    }
   ],
   "source": [
    "# Show frequency\n",
    "count = data['Sexo'].value_counts() \n",
    "\n",
    "# total = 1089329 + 160703\n",
    "# sim = 1089329 / total\n",
    "# nao = 160703 / total\n",
    "\n",
    "# print(\"total: \", total)\n",
    "# print(\"sim: \", sim)\n",
    "# print(\"nao: \", nao)\n",
    "# print(\"\\n\\n====\\n\")\n",
    "print(count)"
   ]
  },
  {
   "cell_type": "code",
   "execution_count": 42,
   "metadata": {},
   "outputs": [],
   "source": [
    "# Frequency of age\n",
    "item = 'Data_Nascimento'\n",
    "\n",
    "now = pd.Timestamp('now')\n",
    "data[item] = pd.to_datetime(data[item])\n",
    "data[item] = data[item].where(data[item] < now, data[item] -  np.timedelta64(100, 'Y'))\n",
    "data['age'] = (now - data[item]).astype('<m8[Y]')"
   ]
  },
  {
   "cell_type": "code",
   "execution_count": 44,
   "metadata": {},
   "outputs": [
    {
     "name": "stdout",
     "output_type": "stream",
     "text": [
      "0          32.0\n",
      "1          35.0\n",
      "2          82.0\n",
      "3          31.0\n",
      "4          36.0\n",
      "5          39.0\n",
      "6          64.0\n",
      "7          57.0\n",
      "8          37.0\n",
      "9          74.0\n",
      "10         57.0\n",
      "11         36.0\n",
      "12         49.0\n",
      "13         48.0\n",
      "14         46.0\n",
      "15         33.0\n",
      "16         26.0\n",
      "17         63.0\n",
      "18         52.0\n",
      "19         39.0\n",
      "20         44.0\n",
      "21         53.0\n",
      "22         45.0\n",
      "23         47.0\n",
      "24         36.0\n",
      "25         40.0\n",
      "26         29.0\n",
      "27         26.0\n",
      "28         28.0\n",
      "29         38.0\n",
      "           ... \n",
      "1250002    35.0\n",
      "1250003    28.0\n",
      "1250004    29.0\n",
      "1250005    47.0\n",
      "1250006    39.0\n",
      "1250007    25.0\n",
      "1250008    50.0\n",
      "1250009    41.0\n",
      "1250010    41.0\n",
      "1250011    64.0\n",
      "1250012    29.0\n",
      "1250013    30.0\n",
      "1250014    28.0\n",
      "1250015    31.0\n",
      "1250016    58.0\n",
      "1250017    43.0\n",
      "1250018    31.0\n",
      "1250019    26.0\n",
      "1250020    37.0\n",
      "1250021    31.0\n",
      "1250022    28.0\n",
      "1250023    29.0\n",
      "1250024    26.0\n",
      "1250025    26.0\n",
      "1250026    36.0\n",
      "1250027    34.0\n",
      "1250028    53.0\n",
      "1250029    37.0\n",
      "1250030    54.0\n",
      "1250031    42.0\n",
      "Name: age, Length: 1250032, dtype: float64\n"
     ]
    }
   ],
   "source": [
    "print(data['age'])"
   ]
  },
  {
   "cell_type": "code",
   "execution_count": null,
   "metadata": {},
   "outputs": [],
   "source": []
  },
  {
   "cell_type": "code",
   "execution_count": null,
   "metadata": {},
   "outputs": [],
   "source": []
  }
 ],
 "metadata": {
  "kernelspec": {
   "display_name": "Python 3",
   "language": "python",
   "name": "python3"
  },
  "language_info": {
   "codemirror_mode": {
    "name": "ipython",
    "version": 3
   },
   "file_extension": ".py",
   "mimetype": "text/x-python",
   "name": "python",
   "nbconvert_exporter": "python",
   "pygments_lexer": "ipython3",
   "version": "3.7.3"
  }
 },
 "nbformat": 4,
 "nbformat_minor": 2
}
